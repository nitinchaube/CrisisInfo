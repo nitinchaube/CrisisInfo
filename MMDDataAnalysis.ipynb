{
 "cells": [
  {
   "cell_type": "code",
   "execution_count": 139,
   "id": "0d290fa4-4e25-4862-90e2-c9cde755541d",
   "metadata": {},
   "outputs": [],
   "source": [
    "import pandas as pd\n",
    "import numpy as np\n",
    "import matplotlib.pyplot as plt\n",
    "import seaborn as sns\n",
    "import sklearn\n",
    "import nltk\n",
    "import string \n",
    "import re\n",
    "import glob\n",
    "from pathlib import Path\n"
   ]
  },
  {
   "cell_type": "code",
   "execution_count": 140,
   "id": "8ab96f23",
   "metadata": {},
   "outputs": [],
   "source": [
    "def load_all_tsv_files(directory_path):\n",
    "    tsv_files = list(Path(directory_path).glob('*.tsv'))\n",
    "    if not tsv_files:\n",
    "        print(\"No TSV files found in the directory.\")\n",
    "        return None\n",
    "    dataframes = [pd.read_csv(file, sep=\"\\t\") for file in tsv_files]\n",
    "    return pd.concat(dataframes, axis=0, ignore_index=True) \n",
    "\n",
    "\n",
    "\n",
    "\n",
    "\n"
   ]
  },
  {
   "cell_type": "code",
   "execution_count": 141,
   "id": "daa3d611",
   "metadata": {},
   "outputs": [],
   "source": [
    "path = \"/Users/nitinchaube/Studies/College/NLP/Project/CrisisMMD_v2.0/annotations\"\n",
    "crisis_dataset = load_all_tsv_files(path)"
   ]
  },
  {
   "cell_type": "code",
   "execution_count": 142,
   "id": "2d6a74ef",
   "metadata": {},
   "outputs": [
    {
     "name": "stdout",
     "output_type": "stream",
     "text": [
      "(18082, 15)\n"
     ]
    }
   ],
   "source": [
    "#printing shape of the data\n",
    "print(crisis_dataset.shape)"
   ]
  },
  {
   "cell_type": "code",
   "execution_count": 143,
   "id": "272a4ea2",
   "metadata": {},
   "outputs": [
    {
     "data": {
      "text/html": [
       "<div>\n",
       "<style scoped>\n",
       "    .dataframe tbody tr th:only-of-type {\n",
       "        vertical-align: middle;\n",
       "    }\n",
       "\n",
       "    .dataframe tbody tr th {\n",
       "        vertical-align: top;\n",
       "    }\n",
       "\n",
       "    .dataframe thead th {\n",
       "        text-align: right;\n",
       "    }\n",
       "</style>\n",
       "<table border=\"1\" class=\"dataframe\">\n",
       "  <thead>\n",
       "    <tr style=\"text-align: right;\">\n",
       "      <th></th>\n",
       "      <th>tweet_id</th>\n",
       "      <th>text_info_conf</th>\n",
       "      <th>image_info_conf</th>\n",
       "      <th>text_human_conf</th>\n",
       "      <th>image_human_conf</th>\n",
       "      <th>image_damage_conf</th>\n",
       "    </tr>\n",
       "  </thead>\n",
       "  <tbody>\n",
       "    <tr>\n",
       "      <th>count</th>\n",
       "      <td>1.808200e+04</td>\n",
       "      <td>18082.000000</td>\n",
       "      <td>18082.000000</td>\n",
       "      <td>18082.000000</td>\n",
       "      <td>18082.000000</td>\n",
       "      <td>3627.000000</td>\n",
       "    </tr>\n",
       "    <tr>\n",
       "      <th>mean</th>\n",
       "      <td>9.105572e+17</td>\n",
       "      <td>0.800315</td>\n",
       "      <td>0.856949</td>\n",
       "      <td>0.800315</td>\n",
       "      <td>0.856949</td>\n",
       "      <td>0.789015</td>\n",
       "    </tr>\n",
       "    <tr>\n",
       "      <th>std</th>\n",
       "      <td>1.129871e+16</td>\n",
       "      <td>0.200509</td>\n",
       "      <td>0.190975</td>\n",
       "      <td>0.200509</td>\n",
       "      <td>0.190975</td>\n",
       "      <td>0.205992</td>\n",
       "    </tr>\n",
       "    <tr>\n",
       "      <th>min</th>\n",
       "      <td>8.699189e+17</td>\n",
       "      <td>0.257800</td>\n",
       "      <td>0.268400</td>\n",
       "      <td>0.257800</td>\n",
       "      <td>0.268400</td>\n",
       "      <td>0.275200</td>\n",
       "    </tr>\n",
       "    <tr>\n",
       "      <th>25%</th>\n",
       "      <td>9.069342e+17</td>\n",
       "      <td>0.661400</td>\n",
       "      <td>0.673400</td>\n",
       "      <td>0.661400</td>\n",
       "      <td>0.673400</td>\n",
       "      <td>0.660600</td>\n",
       "    </tr>\n",
       "    <tr>\n",
       "      <th>50%</th>\n",
       "      <td>9.101265e+17</td>\n",
       "      <td>0.711900</td>\n",
       "      <td>1.000000</td>\n",
       "      <td>0.711900</td>\n",
       "      <td>1.000000</td>\n",
       "      <td>0.702700</td>\n",
       "    </tr>\n",
       "    <tr>\n",
       "      <th>75%</th>\n",
       "      <td>9.160276e+17</td>\n",
       "      <td>1.000000</td>\n",
       "      <td>1.000000</td>\n",
       "      <td>1.000000</td>\n",
       "      <td>1.000000</td>\n",
       "      <td>1.000000</td>\n",
       "    </tr>\n",
       "    <tr>\n",
       "      <th>max</th>\n",
       "      <td>9.320276e+17</td>\n",
       "      <td>1.000000</td>\n",
       "      <td>1.000000</td>\n",
       "      <td>1.000000</td>\n",
       "      <td>1.000000</td>\n",
       "      <td>1.000000</td>\n",
       "    </tr>\n",
       "  </tbody>\n",
       "</table>\n",
       "</div>"
      ],
      "text/plain": [
       "           tweet_id  text_info_conf  image_info_conf  text_human_conf  \\\n",
       "count  1.808200e+04    18082.000000     18082.000000     18082.000000   \n",
       "mean   9.105572e+17        0.800315         0.856949         0.800315   \n",
       "std    1.129871e+16        0.200509         0.190975         0.200509   \n",
       "min    8.699189e+17        0.257800         0.268400         0.257800   \n",
       "25%    9.069342e+17        0.661400         0.673400         0.661400   \n",
       "50%    9.101265e+17        0.711900         1.000000         0.711900   \n",
       "75%    9.160276e+17        1.000000         1.000000         1.000000   \n",
       "max    9.320276e+17        1.000000         1.000000         1.000000   \n",
       "\n",
       "       image_human_conf  image_damage_conf  \n",
       "count      18082.000000        3627.000000  \n",
       "mean           0.856949           0.789015  \n",
       "std            0.190975           0.205992  \n",
       "min            0.268400           0.275200  \n",
       "25%            0.673400           0.660600  \n",
       "50%            1.000000           0.702700  \n",
       "75%            1.000000           1.000000  \n",
       "max            1.000000           1.000000  "
      ]
     },
     "execution_count": 143,
     "metadata": {},
     "output_type": "execute_result"
    }
   ],
   "source": [
    "crisis_dataset.describe()"
   ]
  },
  {
   "cell_type": "code",
   "execution_count": 144,
   "id": "c41d5809",
   "metadata": {},
   "outputs": [
    {
     "name": "stdout",
     "output_type": "stream",
     "text": [
      "<class 'pandas.core.frame.DataFrame'>\n",
      "RangeIndex: 18082 entries, 0 to 18081\n",
      "Data columns (total 15 columns):\n",
      " #   Column             Non-Null Count  Dtype  \n",
      "---  ------             --------------  -----  \n",
      " 0   tweet_id           18082 non-null  int64  \n",
      " 1   image_id           18082 non-null  object \n",
      " 2   text_info          18082 non-null  object \n",
      " 3   text_info_conf     18082 non-null  float64\n",
      " 4   image_info         18082 non-null  object \n",
      " 5   image_info_conf    18082 non-null  float64\n",
      " 6   text_human         18082 non-null  object \n",
      " 7   text_human_conf    18082 non-null  float64\n",
      " 8   image_human        18082 non-null  object \n",
      " 9   image_human_conf   18082 non-null  float64\n",
      " 10  image_damage       3627 non-null   object \n",
      " 11  image_damage_conf  3627 non-null   float64\n",
      " 12  tweet_text         18082 non-null  object \n",
      " 13  image_url          18082 non-null  object \n",
      " 14  image_path         18082 non-null  object \n",
      "dtypes: float64(5), int64(1), object(9)\n",
      "memory usage: 2.1+ MB\n"
     ]
    }
   ],
   "source": [
    "crisis_dataset.info()"
   ]
  },
  {
   "cell_type": "code",
   "execution_count": 145,
   "id": "898776a4",
   "metadata": {},
   "outputs": [
    {
     "data": {
      "text/html": [
       "<div>\n",
       "<style scoped>\n",
       "    .dataframe tbody tr th:only-of-type {\n",
       "        vertical-align: middle;\n",
       "    }\n",
       "\n",
       "    .dataframe tbody tr th {\n",
       "        vertical-align: top;\n",
       "    }\n",
       "\n",
       "    .dataframe thead th {\n",
       "        text-align: right;\n",
       "    }\n",
       "</style>\n",
       "<table border=\"1\" class=\"dataframe\">\n",
       "  <thead>\n",
       "    <tr style=\"text-align: right;\">\n",
       "      <th></th>\n",
       "      <th>tweet_id</th>\n",
       "      <th>image_id</th>\n",
       "      <th>text_info</th>\n",
       "      <th>text_info_conf</th>\n",
       "      <th>image_info</th>\n",
       "      <th>image_info_conf</th>\n",
       "      <th>text_human</th>\n",
       "      <th>text_human_conf</th>\n",
       "      <th>image_human</th>\n",
       "      <th>image_human_conf</th>\n",
       "      <th>image_damage</th>\n",
       "      <th>image_damage_conf</th>\n",
       "      <th>tweet_text</th>\n",
       "      <th>image_url</th>\n",
       "      <th>image_path</th>\n",
       "    </tr>\n",
       "  </thead>\n",
       "  <tbody>\n",
       "    <tr>\n",
       "      <th>0</th>\n",
       "      <td>917791044158185473</td>\n",
       "      <td>917791044158185473_0</td>\n",
       "      <td>informative</td>\n",
       "      <td>1.0000</td>\n",
       "      <td>informative</td>\n",
       "      <td>0.6766</td>\n",
       "      <td>other_relevant_information</td>\n",
       "      <td>1.0000</td>\n",
       "      <td>other_relevant_information</td>\n",
       "      <td>0.6766</td>\n",
       "      <td>NaN</td>\n",
       "      <td>NaN</td>\n",
       "      <td>RT @Gizmodo: Wildfires raging through Northern...</td>\n",
       "      <td>http://pbs.twimg.com/media/DLyi_WYVYAApwNg.jpg</td>\n",
       "      <td>data_image/california_wildfires/10_10_2017/917...</td>\n",
       "    </tr>\n",
       "    <tr>\n",
       "      <th>1</th>\n",
       "      <td>917791130590183424</td>\n",
       "      <td>917791130590183424_0</td>\n",
       "      <td>informative</td>\n",
       "      <td>1.0000</td>\n",
       "      <td>informative</td>\n",
       "      <td>0.6667</td>\n",
       "      <td>infrastructure_and_utility_damage</td>\n",
       "      <td>1.0000</td>\n",
       "      <td>affected_individuals</td>\n",
       "      <td>0.6667</td>\n",
       "      <td>NaN</td>\n",
       "      <td>NaN</td>\n",
       "      <td>PHOTOS: Deadly wildfires rage in California ht...</td>\n",
       "      <td>http://pbs.twimg.com/media/DLymKm9UMAAu0qw.jpg</td>\n",
       "      <td>data_image/california_wildfires/10_10_2017/917...</td>\n",
       "    </tr>\n",
       "    <tr>\n",
       "      <th>2</th>\n",
       "      <td>917791291823591425</td>\n",
       "      <td>917791291823591425_0</td>\n",
       "      <td>informative</td>\n",
       "      <td>0.6813</td>\n",
       "      <td>informative</td>\n",
       "      <td>1.0000</td>\n",
       "      <td>other_relevant_information</td>\n",
       "      <td>0.6813</td>\n",
       "      <td>infrastructure_and_utility_damage</td>\n",
       "      <td>1.0000</td>\n",
       "      <td>severe_damage</td>\n",
       "      <td>1.0</td>\n",
       "      <td>RT @Cal_OES: PLS SHARE: Weâ€™re capturing wild...</td>\n",
       "      <td>http://pbs.twimg.com/media/DLudaaZV4AAjT7x.jpg</td>\n",
       "      <td>data_image/california_wildfires/10_10_2017/917...</td>\n",
       "    </tr>\n",
       "    <tr>\n",
       "      <th>3</th>\n",
       "      <td>917791291823591425</td>\n",
       "      <td>917791291823591425_1</td>\n",
       "      <td>informative</td>\n",
       "      <td>0.6813</td>\n",
       "      <td>not_informative</td>\n",
       "      <td>1.0000</td>\n",
       "      <td>other_relevant_information</td>\n",
       "      <td>0.6813</td>\n",
       "      <td>not_humanitarian</td>\n",
       "      <td>1.0000</td>\n",
       "      <td>NaN</td>\n",
       "      <td>NaN</td>\n",
       "      <td>RT @Cal_OES: PLS SHARE: Weâ€™re capturing wild...</td>\n",
       "      <td>http://pbs.twimg.com/media/DLudaZXUMAABAEZ.jpg</td>\n",
       "      <td>data_image/california_wildfires/10_10_2017/917...</td>\n",
       "    </tr>\n",
       "    <tr>\n",
       "      <th>4</th>\n",
       "      <td>917792092100988929</td>\n",
       "      <td>917792092100988929_0</td>\n",
       "      <td>informative</td>\n",
       "      <td>0.6727</td>\n",
       "      <td>informative</td>\n",
       "      <td>0.6612</td>\n",
       "      <td>other_relevant_information</td>\n",
       "      <td>0.6727</td>\n",
       "      <td>infrastructure_and_utility_damage</td>\n",
       "      <td>0.6612</td>\n",
       "      <td>severe_damage</td>\n",
       "      <td>1.0</td>\n",
       "      <td>RT @TIME: California's raging wildfires as you...</td>\n",
       "      <td>http://pbs.twimg.com/media/DLwNe-NXUAE0XCw.jpg</td>\n",
       "      <td>data_image/california_wildfires/10_10_2017/917...</td>\n",
       "    </tr>\n",
       "  </tbody>\n",
       "</table>\n",
       "</div>"
      ],
      "text/plain": [
       "             tweet_id              image_id    text_info  text_info_conf  \\\n",
       "0  917791044158185473  917791044158185473_0  informative          1.0000   \n",
       "1  917791130590183424  917791130590183424_0  informative          1.0000   \n",
       "2  917791291823591425  917791291823591425_0  informative          0.6813   \n",
       "3  917791291823591425  917791291823591425_1  informative          0.6813   \n",
       "4  917792092100988929  917792092100988929_0  informative          0.6727   \n",
       "\n",
       "        image_info  image_info_conf                         text_human  \\\n",
       "0      informative           0.6766         other_relevant_information   \n",
       "1      informative           0.6667  infrastructure_and_utility_damage   \n",
       "2      informative           1.0000         other_relevant_information   \n",
       "3  not_informative           1.0000         other_relevant_information   \n",
       "4      informative           0.6612         other_relevant_information   \n",
       "\n",
       "   text_human_conf                        image_human  image_human_conf  \\\n",
       "0           1.0000         other_relevant_information            0.6766   \n",
       "1           1.0000               affected_individuals            0.6667   \n",
       "2           0.6813  infrastructure_and_utility_damage            1.0000   \n",
       "3           0.6813                   not_humanitarian            1.0000   \n",
       "4           0.6727  infrastructure_and_utility_damage            0.6612   \n",
       "\n",
       "    image_damage  image_damage_conf  \\\n",
       "0            NaN                NaN   \n",
       "1            NaN                NaN   \n",
       "2  severe_damage                1.0   \n",
       "3            NaN                NaN   \n",
       "4  severe_damage                1.0   \n",
       "\n",
       "                                          tweet_text  \\\n",
       "0  RT @Gizmodo: Wildfires raging through Northern...   \n",
       "1  PHOTOS: Deadly wildfires rage in California ht...   \n",
       "2  RT @Cal_OES: PLS SHARE: Weâ€™re capturing wild...   \n",
       "3  RT @Cal_OES: PLS SHARE: Weâ€™re capturing wild...   \n",
       "4  RT @TIME: California's raging wildfires as you...   \n",
       "\n",
       "                                        image_url  \\\n",
       "0  http://pbs.twimg.com/media/DLyi_WYVYAApwNg.jpg   \n",
       "1  http://pbs.twimg.com/media/DLymKm9UMAAu0qw.jpg   \n",
       "2  http://pbs.twimg.com/media/DLudaaZV4AAjT7x.jpg   \n",
       "3  http://pbs.twimg.com/media/DLudaZXUMAABAEZ.jpg   \n",
       "4  http://pbs.twimg.com/media/DLwNe-NXUAE0XCw.jpg   \n",
       "\n",
       "                                          image_path  \n",
       "0  data_image/california_wildfires/10_10_2017/917...  \n",
       "1  data_image/california_wildfires/10_10_2017/917...  \n",
       "2  data_image/california_wildfires/10_10_2017/917...  \n",
       "3  data_image/california_wildfires/10_10_2017/917...  \n",
       "4  data_image/california_wildfires/10_10_2017/917...  "
      ]
     },
     "execution_count": 145,
     "metadata": {},
     "output_type": "execute_result"
    }
   ],
   "source": [
    "crisis_dataset.head()"
   ]
  },
  {
   "cell_type": "code",
   "execution_count": 146,
   "id": "caa0eb1c",
   "metadata": {},
   "outputs": [
    {
     "data": {
      "text/plain": [
       "(18082, 15)"
      ]
     },
     "execution_count": 146,
     "metadata": {},
     "output_type": "execute_result"
    }
   ],
   "source": [
    "crisis_dataset.shape"
   ]
  },
  {
   "cell_type": "code",
   "execution_count": 147,
   "id": "011872b7",
   "metadata": {},
   "outputs": [
    {
     "name": "stdout",
     "output_type": "stream",
     "text": [
      "                tweet_id                                         tweet_text\n",
      "0     904473410792816641  #19 &amp; #20 serving the people and saving th...\n",
      "1     904473410792816641  #19 &amp; #20 serving the people and saving th...\n",
      "2     904469110028951552  #AlleyTheatre sustains heavy damage from #Hurr...\n",
      "3     904469110028951552  #AlleyTheatre sustains heavy damage from #Hurr...\n",
      "4     907621182538764289  #Arkansas #Soldiers #TaskForceAleutian assist ...\n",
      "...                  ...                                                ...\n",
      "3164  910042181741793281  ‚úàÔ∏è·ºû8·ºüA·º≥4 Hope #Cuba will soon recove...\n",
      "3165  910042181741793281  ‚úàÔ∏è·ºû8·ºüA·º≥4 Hope #Cuba will soon recove...\n",
      "3166  910042181741793281  ‚úàÔ∏è·ºû8·ºüA·º≥4 Hope #Cuba will soon recove...\n",
      "3167  909827685874110465  ❤️ getting a thank U card from a community mem...\n",
      "3168  909827685874110465  ❤️ getting a thank U card from a community mem...\n",
      "\n",
      "[3169 rows x 2 columns]\n"
     ]
    }
   ],
   "source": [
    "#Checking for duplicates in tweet_id, tweet_text columns\n",
    "duplicates = crisis_dataset[crisis_dataset.duplicated(subset='tweet_id', keep=False)]\n",
    "print(duplicates[['tweet_id', 'tweet_text']].sort_values(by='tweet_text').reset_index(drop=True))\n"
   ]
  },
  {
   "cell_type": "code",
   "execution_count": 148,
   "id": "0edfbf51",
   "metadata": {},
   "outputs": [
    {
     "data": {
      "text/plain": [
       "(16058, 15)"
      ]
     },
     "execution_count": 148,
     "metadata": {},
     "output_type": "execute_result"
    }
   ],
   "source": [
    "#Removing duplicates\n",
    "crisis_dataset = crisis_dataset.drop_duplicates(subset=['tweet_id'])\n",
    "crisis_dataset.shape"
   ]
  },
  {
   "cell_type": "code",
   "execution_count": 149,
   "id": "a6ee69b4",
   "metadata": {},
   "outputs": [
    {
     "data": {
      "text/html": [
       "<div>\n",
       "<style scoped>\n",
       "    .dataframe tbody tr th:only-of-type {\n",
       "        vertical-align: middle;\n",
       "    }\n",
       "\n",
       "    .dataframe tbody tr th {\n",
       "        vertical-align: top;\n",
       "    }\n",
       "\n",
       "    .dataframe thead th {\n",
       "        text-align: right;\n",
       "    }\n",
       "</style>\n",
       "<table border=\"1\" class=\"dataframe\">\n",
       "  <thead>\n",
       "    <tr style=\"text-align: right;\">\n",
       "      <th></th>\n",
       "      <th>tweet_text</th>\n",
       "      <th>text_info</th>\n",
       "      <th>text_human</th>\n",
       "    </tr>\n",
       "  </thead>\n",
       "  <tbody>\n",
       "    <tr>\n",
       "      <th>0</th>\n",
       "      <td>RT @Gizmodo: Wildfires raging through Northern...</td>\n",
       "      <td>informative</td>\n",
       "      <td>other_relevant_information</td>\n",
       "    </tr>\n",
       "    <tr>\n",
       "      <th>1</th>\n",
       "      <td>PHOTOS: Deadly wildfires rage in California ht...</td>\n",
       "      <td>informative</td>\n",
       "      <td>infrastructure_and_utility_damage</td>\n",
       "    </tr>\n",
       "    <tr>\n",
       "      <th>2</th>\n",
       "      <td>RT @Cal_OES: PLS SHARE: Weâ€™re capturing wild...</td>\n",
       "      <td>informative</td>\n",
       "      <td>other_relevant_information</td>\n",
       "    </tr>\n",
       "    <tr>\n",
       "      <th>4</th>\n",
       "      <td>RT @TIME: California's raging wildfires as you...</td>\n",
       "      <td>informative</td>\n",
       "      <td>other_relevant_information</td>\n",
       "    </tr>\n",
       "    <tr>\n",
       "      <th>5</th>\n",
       "      <td>Wildfires Threaten Californiaâ€™s First Legal ...</td>\n",
       "      <td>informative</td>\n",
       "      <td>other_relevant_information</td>\n",
       "    </tr>\n",
       "  </tbody>\n",
       "</table>\n",
       "</div>"
      ],
      "text/plain": [
       "                                          tweet_text    text_info  \\\n",
       "0  RT @Gizmodo: Wildfires raging through Northern...  informative   \n",
       "1  PHOTOS: Deadly wildfires rage in California ht...  informative   \n",
       "2  RT @Cal_OES: PLS SHARE: Weâ€™re capturing wild...  informative   \n",
       "4  RT @TIME: California's raging wildfires as you...  informative   \n",
       "5  Wildfires Threaten Californiaâ€™s First Legal ...  informative   \n",
       "\n",
       "                          text_human  \n",
       "0         other_relevant_information  \n",
       "1  infrastructure_and_utility_damage  \n",
       "2         other_relevant_information  \n",
       "4         other_relevant_information  \n",
       "5         other_relevant_information  "
      ]
     },
     "execution_count": 149,
     "metadata": {},
     "output_type": "execute_result"
    }
   ],
   "source": [
    "#Considering only the tweet_text, text_info, text_human columns as there rare relevent columns for our project\n",
    "crisis_dataset = crisis_dataset[[\"tweet_text\",\"text_info\",\"text_human\"]]\n",
    "crisis_dataset.head()"
   ]
  },
  {
   "cell_type": "markdown",
   "id": "06b9b846",
   "metadata": {},
   "source": [
    "# Phase1: EDA And Feature Engineering"
   ]
  },
  {
   "cell_type": "code",
   "execution_count": 150,
   "id": "005f018e",
   "metadata": {},
   "outputs": [
    {
     "data": {
      "text/html": [
       "<div>\n",
       "<style scoped>\n",
       "    .dataframe tbody tr th:only-of-type {\n",
       "        vertical-align: middle;\n",
       "    }\n",
       "\n",
       "    .dataframe tbody tr th {\n",
       "        vertical-align: top;\n",
       "    }\n",
       "\n",
       "    .dataframe thead th {\n",
       "        text-align: right;\n",
       "    }\n",
       "</style>\n",
       "<table border=\"1\" class=\"dataframe\">\n",
       "  <thead>\n",
       "    <tr style=\"text-align: right;\">\n",
       "      <th></th>\n",
       "      <th>tweet_text</th>\n",
       "      <th>text_info</th>\n",
       "      <th>text_human</th>\n",
       "    </tr>\n",
       "  </thead>\n",
       "  <tbody>\n",
       "    <tr>\n",
       "      <th>count</th>\n",
       "      <td>16058</td>\n",
       "      <td>16058</td>\n",
       "      <td>16058</td>\n",
       "    </tr>\n",
       "    <tr>\n",
       "      <th>unique</th>\n",
       "      <td>16058</td>\n",
       "      <td>2</td>\n",
       "      <td>8</td>\n",
       "    </tr>\n",
       "    <tr>\n",
       "      <th>top</th>\n",
       "      <td>RT @Gizmodo: Wildfires raging through Northern...</td>\n",
       "      <td>informative</td>\n",
       "      <td>other_relevant_information</td>\n",
       "    </tr>\n",
       "    <tr>\n",
       "      <th>freq</th>\n",
       "      <td>1</td>\n",
       "      <td>11503</td>\n",
       "      <td>5951</td>\n",
       "    </tr>\n",
       "  </tbody>\n",
       "</table>\n",
       "</div>"
      ],
      "text/plain": [
       "                                               tweet_text    text_info  \\\n",
       "count                                               16058        16058   \n",
       "unique                                              16058            2   \n",
       "top     RT @Gizmodo: Wildfires raging through Northern...  informative   \n",
       "freq                                                    1        11503   \n",
       "\n",
       "                        text_human  \n",
       "count                        16058  \n",
       "unique                           8  \n",
       "top     other_relevant_information  \n",
       "freq                          5951  "
      ]
     },
     "execution_count": 150,
     "metadata": {},
     "output_type": "execute_result"
    }
   ],
   "source": [
    "crisis_dataset.describe()\n"
   ]
  },
  {
   "cell_type": "code",
   "execution_count": 151,
   "id": "952db86c",
   "metadata": {},
   "outputs": [
    {
     "data": {
      "text/plain": [
       "tweet_text    0\n",
       "text_info     0\n",
       "text_human    0\n",
       "dtype: int64"
      ]
     },
     "execution_count": 151,
     "metadata": {},
     "output_type": "execute_result"
    }
   ],
   "source": [
    "#checking for null values\n",
    "def check_null(df):\n",
    "    return df.isnull().sum()\n",
    "check_null(crisis_dataset)"
   ]
  },
  {
   "cell_type": "code",
   "execution_count": 152,
   "id": "00ee2976",
   "metadata": {},
   "outputs": [
    {
     "name": "stdout",
     "output_type": "stream",
     "text": [
      "['informative' 'not_informative']\n",
      "['other_relevant_information' 'infrastructure_and_utility_damage'\n",
      " 'injured_or_dead_people' 'not_humanitarian' 'missing_or_found_people'\n",
      " 'rescue_volunteering_or_donation_effort' 'affected_individuals'\n",
      " 'vehicle_damage']\n"
     ]
    }
   ],
   "source": [
    "#checking unique values in text_info and text_human columns\n",
    "def checking_unique(df):\n",
    "    print(df[\"text_info\"].unique())\n",
    "    print(df[\"text_human\"].unique())\n",
    "\n",
    "checking_unique(crisis_dataset)"
   ]
  },
  {
   "cell_type": "code",
   "execution_count": 153,
   "id": "d0757a92",
   "metadata": {},
   "outputs": [
    {
     "data": {
      "image/png": "[encoded data removed]",
      "text/plain": [
       "<Figure size 900x600 with 2 Axes>"
      ]
     },
     "metadata": {},
     "output_type": "display_data"
    }
   ],
   "source": [
    "# plotting pie chart of number of unique values in text_info and text_human columns\n",
    "def pi_chart(df):\n",
    "    fig, axs = plt.subplots(2,1 , figsize=(9,6))\n",
    "\n",
    "    # First pie chart - text_info\n",
    "    values1 = df[\"text_info\"].value_counts()\n",
    "    total1 = values1.sum()\n",
    "    wedges1, _ = axs[0].pie(values1, startangle=90)\n",
    "    legend_labels1 = [f\"{label} ({(count/total1)*100:.1f}%)\" for label, count in values1.items()]\n",
    "    axs[0].legend(wedges1, legend_labels1, title=\"text_info\", bbox_to_anchor=(1, 0.5), loc=\"center left\")\n",
    "    axs[0].set_title(\"Distribution of text_info\")\n",
    "    axs[0].axis('equal')\n",
    "\n",
    "    # Second pie chart - text_human\n",
    "    values2 = df[\"text_human\"].value_counts()\n",
    "    total2 = values2.sum()\n",
    "    wedges2, _ = axs[1].pie(values2, startangle=90)\n",
    "    legend_labels2 = [f\"{label} ({(count/total2)*100:.1f}%)\" for label, count in values2.items()]\n",
    "    axs[1].legend(wedges2, legend_labels2, title=\"text_human\", bbox_to_anchor=(1, 0.5), loc=\"center left\")\n",
    "    axs[1].set_title(\"Distribution of text_human\")\n",
    "    axs[1].axis('equal')\n",
    "\n",
    "    plt.tight_layout()\n",
    "    plt.show()\n",
    "\n",
    "pi_chart(crisis_dataset)\n"
   ]
  },
  {
   "cell_type": "code",
   "execution_count": 154,
   "id": "f610d234",
   "metadata": {},
   "outputs": [
    {
     "name": "stdout",
     "output_type": "stream",
     "text": [
      "Max token in tweet_text column is:  26\n",
      "Min token in tweet_text column is:  3\n",
      "Average token in tweet_text column is:  14.0\n"
     ]
    }
   ],
   "source": [
    "#lets see the max and min token count in tweet_text column\n",
    "def max_token_count(df):\n",
    "    max_token_count = df[\"tweet_text\"].apply(lambda x: len(x.split()))\n",
    "    return max_token_count.max()\n",
    "\n",
    "def min_token_count(df):\n",
    "    min_token_count = df[\"tweet_text\"].apply(lambda x: len(x.split()))\n",
    "    return min_token_count.min()\n",
    "\n",
    "def avg_token_count(df):\n",
    "    avg_token_count = df[\"tweet_text\"].apply(lambda x: len(x.split())).mean().round(0)\n",
    "    return avg_token_count\n",
    "\n",
    "print(\"Max token in tweet_text column is: \", max_token_count(crisis_dataset))\n",
    "print(\"Min token in tweet_text column is: \", min_token_count(crisis_dataset))\n",
    "print(\"Average token in tweet_text column is: \", avg_token_count(crisis_dataset))"
   ]
  },
  {
   "cell_type": "code",
   "execution_count": 160,
   "id": "22fda7b5",
   "metadata": {},
   "outputs": [],
   "source": [
    "#Cleaning the tweet_text column\n",
    "import re\n",
    "import html\n",
    "def cleaning_tweet_text(tweet):\n",
    "    # unescape html entities like &amp;\n",
    "    tweet_text = html.unescape(tweet)\n",
    "    #lower case the tweet_text\n",
    "    tweet_text = tweet_text.lower()\n",
    "    #Remove \"RT @user:\"\" and \"via @user\"\n",
    "    tweet_text = re.sub(r'^RT\\s+@\\w+:\\s+','',tweet_text)\n",
    "    tweet_text = re.sub(r'via\\s+@\\w+','', tweet_text)\n",
    "    #Replace URL with <url>\n",
    "    tweet_text = re.sub(r'https?://\\S+','<url>', tweet_text)\n",
    "    #Replace mentions with <user>\n",
    "    tweet_text = re.sub(r'@\\w+','<user>', tweet_text)\n",
    "    #Removing extra spaces\n",
    "    tweet_text = re.sub(r'\\s+',' ', tweet_text).strip()\n",
    "\n",
    "    return tweet_text\n"
   ]
  },
  {
   "cell_type": "code",
   "execution_count": 161,
   "id": "46d62c38",
   "metadata": {},
   "outputs": [
    {
     "data": {
      "text/html": [
       "<div>\n",
       "<style scoped>\n",
       "    .dataframe tbody tr th:only-of-type {\n",
       "        vertical-align: middle;\n",
       "    }\n",
       "\n",
       "    .dataframe tbody tr th {\n",
       "        vertical-align: top;\n",
       "    }\n",
       "\n",
       "    .dataframe thead th {\n",
       "        text-align: right;\n",
       "    }\n",
       "</style>\n",
       "<table border=\"1\" class=\"dataframe\">\n",
       "  <thead>\n",
       "    <tr style=\"text-align: right;\">\n",
       "      <th></th>\n",
       "      <th>tweet_text</th>\n",
       "      <th>text_info</th>\n",
       "      <th>text_human</th>\n",
       "      <th>text_info_label</th>\n",
       "      <th>text_human_label</th>\n",
       "    </tr>\n",
       "  </thead>\n",
       "  <tbody>\n",
       "    <tr>\n",
       "      <th>0</th>\n",
       "      <td>wildfires raging through northern california a...</td>\n",
       "      <td>informative</td>\n",
       "      <td>other_relevant_information</td>\n",
       "      <td>0</td>\n",
       "      <td>5</td>\n",
       "    </tr>\n",
       "    <tr>\n",
       "      <th>1</th>\n",
       "      <td>photos: deadly wildfires rage in california &lt;u...</td>\n",
       "      <td>informative</td>\n",
       "      <td>infrastructure_and_utility_damage</td>\n",
       "      <td>0</td>\n",
       "      <td>1</td>\n",
       "    </tr>\n",
       "    <tr>\n",
       "      <th>2</th>\n",
       "      <td>pls share: weâ€™re capturing wildfire response...</td>\n",
       "      <td>informative</td>\n",
       "      <td>other_relevant_information</td>\n",
       "      <td>0</td>\n",
       "      <td>5</td>\n",
       "    </tr>\n",
       "    <tr>\n",
       "      <th>4</th>\n",
       "      <td>california's raging wildfires as you've never ...</td>\n",
       "      <td>informative</td>\n",
       "      <td>other_relevant_information</td>\n",
       "      <td>0</td>\n",
       "      <td>5</td>\n",
       "    </tr>\n",
       "    <tr>\n",
       "      <th>5</th>\n",
       "      <td>wildfires threaten californiaâ€™s first legal ...</td>\n",
       "      <td>informative</td>\n",
       "      <td>other_relevant_information</td>\n",
       "      <td>0</td>\n",
       "      <td>5</td>\n",
       "    </tr>\n",
       "  </tbody>\n",
       "</table>\n",
       "</div>"
      ],
      "text/plain": [
       "                                          tweet_text    text_info  \\\n",
       "0  wildfires raging through northern california a...  informative   \n",
       "1  photos: deadly wildfires rage in california <u...  informative   \n",
       "2  pls share: weâ€™re capturing wildfire response...  informative   \n",
       "4  california's raging wildfires as you've never ...  informative   \n",
       "5  wildfires threaten californiaâ€™s first legal ...  informative   \n",
       "\n",
       "                          text_human  text_info_label  text_human_label  \n",
       "0         other_relevant_information                0                 5  \n",
       "1  infrastructure_and_utility_damage                0                 1  \n",
       "2         other_relevant_information                0                 5  \n",
       "4         other_relevant_information                0                 5  \n",
       "5         other_relevant_information                0                 5  "
      ]
     },
     "execution_count": 161,
     "metadata": {},
     "output_type": "execute_result"
    }
   ],
   "source": [
    "#Applying the cleaning function to tweet_text column\n",
    "crisis_dataset['tweet_text'] = crisis_dataset['tweet_text'].apply(cleaning_tweet_text)\n",
    "crisis_dataset.head()"
   ]
  },
  {
   "cell_type": "code",
   "execution_count": 162,
   "id": "7adc8a77",
   "metadata": {},
   "outputs": [
    {
     "name": "stdout",
     "output_type": "stream",
     "text": [
      "pls share: weâ€™re capturing wildfire response, recovery info here: <url> <url>\n"
     ]
    }
   ],
   "source": [
    "print(crisis_dataset.tweet_text.iloc[2])"
   ]
  },
  {
   "cell_type": "code",
   "execution_count": 163,
   "id": "ee653f61",
   "metadata": {},
   "outputs": [
    {
     "name": "stdout",
     "output_type": "stream",
     "text": [
      "{'informative': 0, 'not_informative': 1}\n",
      "{'affected_individuals': 0, 'infrastructure_and_utility_damage': 1, 'injured_or_dead_people': 2, 'missing_or_found_people': 3, 'not_humanitarian': 4, 'other_relevant_information': 5, 'rescue_volunteering_or_donation_effort': 6, 'vehicle_damage': 7}\n"
     ]
    }
   ],
   "source": [
    "# Using LabelEncoder to encode lables.\n",
    "from sklearn.preprocessing import LabelEncoder\n",
    "def encode_labels(df, column_name, new_column_name):\n",
    "    le = LabelEncoder()\n",
    "    df[new_column_name] = le.fit_transform(df[column_name])\n",
    "    return df, le\n",
    "\n",
    "crisis_dataset , le_binary = encode_labels(crisis_dataset, 'text_info', 'text_info_label')\n",
    "crisis_dataset , le_multiclass= encode_labels(crisis_dataset, 'text_human', 'text_human_label')\n",
    "print(dict(zip(le_binary.classes_, le_binary.transform(le_binary.classes_))))\n",
    "print(dict(zip(le_multiclass.classes_, le_multiclass.transform(le_multiclass.classes_))))\n",
    "\n",
    "\n"
   ]
  },
  {
   "cell_type": "code",
   "execution_count": 164,
   "id": "e3f2b50c",
   "metadata": {},
   "outputs": [
    {
     "data": {
      "text/html": [
       "<div>\n",
       "<style scoped>\n",
       "    .dataframe tbody tr th:only-of-type {\n",
       "        vertical-align: middle;\n",
       "    }\n",
       "\n",
       "    .dataframe tbody tr th {\n",
       "        vertical-align: top;\n",
       "    }\n",
       "\n",
       "    .dataframe thead th {\n",
       "        text-align: right;\n",
       "    }\n",
       "</style>\n",
       "<table border=\"1\" class=\"dataframe\">\n",
       "  <thead>\n",
       "    <tr style=\"text-align: right;\">\n",
       "      <th></th>\n",
       "      <th>tweet_text</th>\n",
       "      <th>text_info</th>\n",
       "      <th>text_human</th>\n",
       "      <th>text_info_label</th>\n",
       "      <th>text_human_label</th>\n",
       "    </tr>\n",
       "  </thead>\n",
       "  <tbody>\n",
       "    <tr>\n",
       "      <th>0</th>\n",
       "      <td>wildfires raging through northern california a...</td>\n",
       "      <td>informative</td>\n",
       "      <td>other_relevant_information</td>\n",
       "      <td>0</td>\n",
       "      <td>5</td>\n",
       "    </tr>\n",
       "    <tr>\n",
       "      <th>1</th>\n",
       "      <td>photos: deadly wildfires rage in california &lt;u...</td>\n",
       "      <td>informative</td>\n",
       "      <td>infrastructure_and_utility_damage</td>\n",
       "      <td>0</td>\n",
       "      <td>1</td>\n",
       "    </tr>\n",
       "    <tr>\n",
       "      <th>2</th>\n",
       "      <td>pls share: weâ€™re capturing wildfire response...</td>\n",
       "      <td>informative</td>\n",
       "      <td>other_relevant_information</td>\n",
       "      <td>0</td>\n",
       "      <td>5</td>\n",
       "    </tr>\n",
       "    <tr>\n",
       "      <th>4</th>\n",
       "      <td>california's raging wildfires as you've never ...</td>\n",
       "      <td>informative</td>\n",
       "      <td>other_relevant_information</td>\n",
       "      <td>0</td>\n",
       "      <td>5</td>\n",
       "    </tr>\n",
       "    <tr>\n",
       "      <th>5</th>\n",
       "      <td>wildfires threaten californiaâ€™s first legal ...</td>\n",
       "      <td>informative</td>\n",
       "      <td>other_relevant_information</td>\n",
       "      <td>0</td>\n",
       "      <td>5</td>\n",
       "    </tr>\n",
       "  </tbody>\n",
       "</table>\n",
       "</div>"
      ],
      "text/plain": [
       "                                          tweet_text    text_info  \\\n",
       "0  wildfires raging through northern california a...  informative   \n",
       "1  photos: deadly wildfires rage in california <u...  informative   \n",
       "2  pls share: weâ€™re capturing wildfire response...  informative   \n",
       "4  california's raging wildfires as you've never ...  informative   \n",
       "5  wildfires threaten californiaâ€™s first legal ...  informative   \n",
       "\n",
       "                          text_human  text_info_label  text_human_label  \n",
       "0         other_relevant_information                0                 5  \n",
       "1  infrastructure_and_utility_damage                0                 1  \n",
       "2         other_relevant_information                0                 5  \n",
       "4         other_relevant_information                0                 5  \n",
       "5         other_relevant_information                0                 5  "
      ]
     },
     "execution_count": 164,
     "metadata": {},
     "output_type": "execute_result"
    }
   ],
   "source": [
    "crisis_dataset.head()"
   ]
  },
  {
   "cell_type": "markdown",
   "id": "1929100f",
   "metadata": {},
   "source": [
    "## Building BERT - uncased model\n",
    "\n",
    "\n"
   ]
  },
  {
   "cell_type": "code",
   "execution_count": 174,
   "id": "68892efd",
   "metadata": {},
   "outputs": [],
   "source": [
    "from sklearn.model_selection import train_test_split\n",
    "from transformers import BertTokenizer, BertForSequenceClassification, Trainer, TrainingArguments, EarlyStoppingCallback\n",
    "from sklearn.metrics import accuracy_score, precision_recall_curve, f1_score, classification_report\n"
   ]
  },
  {
   "cell_type": "code",
   "execution_count": 169,
   "id": "a6633488",
   "metadata": {},
   "outputs": [
    {
     "name": "stdout",
     "output_type": "stream",
     "text": [
      "(12043, 5) (2008, 5) (2007, 5)\n"
     ]
    }
   ],
   "source": [
    "#splitting the data into train, val and test\n",
    "train_df, test_df = train_test_split(crisis_dataset, test_size=0.25, random_state=42)\n",
    "test_df, val_df = train_test_split(test_df, test_size=0.5, random_state=42)\n",
    "print(train_df.shape, val_df.shape, test_df.shape)\n"
   ]
  },
  {
   "cell_type": "code",
   "execution_count": 172,
   "id": "ead5c930",
   "metadata": {},
   "outputs": [],
   "source": [
    "#Tokenizer\n",
    "import torch\n",
    "tokenizer = BertTokenizer.from_pretrained('bert-base-uncased')\n",
    "\n",
    "#function to tokenize the tweet_text\n",
    "def tokenize_data(df, max_len=128):\n",
    "    return tokenizer(\n",
    "        list(df[\"tweet_text\"]),\n",
    "        padding=\"max_length\",\n",
    "        truncation=True,\n",
    "        max_length = max_len,\n",
    "        return_tensors=\"pt\"\n",
    "    )\n",
    "\n",
    "class TweetDataset(torch.utils.data.Dataset):\n",
    "    def __init__(self, encodings, labels):\n",
    "        self.encodings = encodings\n",
    "        self.labels = torch.tensor(labels.tolist())\n",
    "    \n",
    "    def __len__(self):\n",
    "        return len(self.labels)\n",
    "    \n",
    "    def __getitem__(self, idx):\n",
    "        return {\n",
    "            \"input_ids\": self.encodings[\"input_ids\"][idx],\n",
    "            \"attention_mask\": self.encodings[\"attention_mask\"][idx],\n",
    "            \"labels\": self.labels[idx]\n",
    "        }"
   ]
  },
  {
   "cell_type": "code",
   "execution_count": 173,
   "id": "e167b773",
   "metadata": {},
   "outputs": [
    {
     "name": "stderr",
     "output_type": "stream",
     "text": [
      "Some weights of BertForSequenceClassification were not initialized from the model checkpoint at bert-base-uncased and are newly initialized: ['classifier.bias', 'classifier.weight']\n",
      "You should probably TRAIN this model on a down-stream task to be able to use it for predictions and inference.\n"
     ]
    }
   ],
   "source": [
    "#Encoding train, val\n",
    "train_enc_bin = tokenize_data(train_df)\n",
    "val_enc_bin = tokenize_data(val_df)\n",
    "test_enc_bin = tokenize_data(test_df)\n",
    "\n",
    "train_dataset_bin = TweetDataset(train_enc_bin, train_df[\"text_info_label\"])\n",
    "val_dataset_bin = TweetDataset(val_enc_bin, val_df[\"text_info_label\"])\n",
    "test_dataset_bin = TweetDataset(test_enc_bin, test_df[\"text_info_label\"])\n",
    "\n",
    "#Model\n",
    "model_bin = BertForSequenceClassification.from_pretrained(\"bert-base-uncased\", num_labels=2)\n",
    "\n",
    "\n"
   ]
  },
  {
   "cell_type": "code",
   "execution_count": 175,
   "id": "a6134675",
   "metadata": {},
   "outputs": [],
   "source": [
    "def compute_metrics(pred):\n",
    "    labels = pred.label_ids\n",
    "    preds = pred.predictions.argmax(-1)\n",
    "    return {\n",
    "        \"accuracy\": accuracy_score(labels, preds),\n",
    "        \"f1\": f1_score(labels, preds, average=\"macro\")\n",
    "    }\n"
   ]
  },
  {
   "cell_type": "code",
   "execution_count": 184,
   "id": "2d9ff54c",
   "metadata": {},
   "outputs": [],
   "source": [
    "import os\n",
    "def train_or_resume_model(train_encodings, train_labels, val_encodings, val_labels, save_path, tokenizer, num_labels, epochs=5, batch_size=16):\n",
    "    os.makedirs(save_path, exist_ok=True)\n",
    "    train_dataset = TweetDataset(train_encodings, train_labels)\n",
    "    val_dataset = TweetDataset(val_encodings, val_labels)\n",
    "    \n",
    "    if os.path.exists(os.path.join(save_path, \"*.bin\")):\n",
    "        print(f\"Loading existing model from: {save_path}\")\n",
    "        model = BertForSequenceClassification.from_pretrained(save_path)\n",
    "    else:\n",
    "        print(f\"No model fount at {save_path}, initializing fresh BERT model.\")\n",
    "        model = BertForSequenceClassification.from_pretrained(\"bert-base-uncased\", num_labels=num_labels)\n",
    "    \n",
    "    #setting up training arguments\n",
    "    training_args = TrainingArguments(\n",
    "        output_dir=save_path,\n",
    "        num_train_epochs=epochs,\n",
    "        per_device_train_batch_size=batch_size,\n",
    "        per_device_eval_batch_size=batch_size * 2,\n",
    "        evaluation_strategy=\"epoch\",\n",
    "        save_strategy=\"epoch\",\n",
    "        save_total_limit=2,\n",
    "        learning_rate=2e-5,\n",
    "        weight_decay=0.01,\n",
    "        warmup_steps=100,\n",
    "        logging_dir=os.path.join(save_path, \"logs\"),\n",
    "        load_best_model_at_end=True,\n",
    "        metric_for_best_model=\"f1\",\n",
    "        greater_is_better=True,\n",
    "        \n",
    "    )\n",
    "\n",
    "    #making trainer\n",
    "    trainer = Trainer(\n",
    "        model = model, \n",
    "        args = training_args,\n",
    "        train_dataset = train_dataset,\n",
    "        eval_dataset = val_dataset,\n",
    "        tokenizer = tokenizer,\n",
    "        compute_metrics = compute_metrics,\n",
    "        callbacks = [EarlyStoppingCallback(early_stopping_patience=2)]\n",
    "    )\n",
    "\n",
    "    #checki if there is a last checkpoint \n",
    "    checkpoint_path = list(Path(save_path).glob(\"checkpoint-*\"))\n",
    "\n",
    "    if checkpoint_path:\n",
    "        trainer.train(resume_from_checkpoint=checkpoint_path[-1])\n",
    "    else:\n",
    "        trainer.train()\n",
    "\n",
    "    trainer.save_model(save_path)\n",
    "    tokenizer.save_pretrained(save_path)\n",
    "\n",
    "    return trainer, model\n",
    "    "
   ]
  },
  {
   "cell_type": "code",
   "execution_count": 185,
   "id": "683ed26b",
   "metadata": {},
   "outputs": [
    {
     "name": "stdout",
     "output_type": "stream",
     "text": [
      "No model fount at ./models/binary_model, initializing fresh BERT model.\n"
     ]
    },
    {
     "name": "stderr",
     "output_type": "stream",
     "text": [
      "Some weights of BertForSequenceClassification were not initialized from the model checkpoint at bert-base-uncased and are newly initialized: ['classifier.bias', 'classifier.weight']\n",
      "You should probably TRAIN this model on a down-stream task to be able to use it for predictions and inference.\n",
      "/opt/anaconda3/envs/tf-gpu/lib/python3.12/site-packages/transformers/training_args.py:1594: FutureWarning: `evaluation_strategy` is deprecated and will be removed in version 4.46 of 🤗 Transformers. Use `eval_strategy` instead\n",
      "  warnings.warn(\n",
      "/var/folders/j7/ytxcvpvj7sg85_k31gzfzg5c0000gn/T/ipykernel_59774/3773756154.py:34: FutureWarning: `tokenizer` is deprecated and will be removed in version 5.0.0 for `Trainer.__init__`. Use `processing_class` instead.\n",
      "  trainer = Trainer(\n"
     ]
    },
    {
     "data": {
      "text/html": [
       "\n",
       "    <div>\n",
       "      \n",
       "      <progress value='3765' max='3765' style='width:300px; height:20px; vertical-align: middle;'></progress>\n",
       "      [3765/3765 : < :, Epoch 5/5]\n",
       "    </div>\n",
       "    <table border=\"1\" class=\"dataframe\">\n",
       "  <thead>\n",
       " <tr style=\"text-align: left;\">\n",
       "      <th>Epoch</th>\n",
       "      <th>Training Loss</th>\n",
       "      <th>Validation Loss</th>\n",
       "    </tr>\n",
       "  </thead>\n",
       "  <tbody>\n",
       "  </tbody>\n",
       "</table><p>"
      ],
      "text/plain": [
       "<IPython.core.display.HTML object>"
      ]
     },
     "metadata": {},
     "output_type": "display_data"
    }
   ],
   "source": [
    "#Training Binary Model\n",
    "save_path_bin = \"./models/binary_model\"\n",
    "trainer_bin, model_bin = train_or_resume_model(train_enc_bin, train_df[\"text_info_label\"], val_enc_bin, val_df[\"text_info_label\"], save_path_bin, tokenizer, 2)"
   ]
  },
  {
   "cell_type": "code",
   "execution_count": 188,
   "id": "7e17359a",
   "metadata": {},
   "outputs": [
    {
     "data": {
      "text/html": [],
      "text/plain": [
       "<IPython.core.display.HTML object>"
      ]
     },
     "metadata": {},
     "output_type": "display_data"
    },
    {
     "name": "stdout",
     "output_type": "stream",
     "text": [
      "              precision    recall  f1-score   support\n",
      "\n",
      "           0       0.88      0.94      0.91      1457\n",
      "           1       0.81      0.65      0.72       550\n",
      "\n",
      "    accuracy                           0.86      2007\n",
      "   macro avg       0.84      0.80      0.81      2007\n",
      "weighted avg       0.86      0.86      0.86      2007\n",
      "\n"
     ]
    }
   ],
   "source": [
    "#Testing the binary model\n",
    "test_dataset_bin = TweetDataset(test_enc_bin, test_df[\"text_info_label\"])\n",
    "test_labels_bin = test_df[\"text_info_label\"]\n",
    "import torch\n",
    "device = torch.device(\"mps\" if torch.backends.mps.is_available() else \"cpu\")\n",
    "\n",
    "#loading the model\n",
    "binary_model = BertForSequenceClassification.from_pretrained(save_path_bin)\n",
    "binary_model.to(device)\n",
    "trainer_bin.model = binary_model\n",
    "\n",
    "predictions_bin = trainer_bin.predict(test_dataset_bin)\n",
    "preds_bin = predictions_bin.predictions.argmax(-1)\n",
    "\n",
    "print(classification_report(test_df[\"text_info_label\"], preds_bin))\n",
    "\n",
    "\n"
   ]
  },
  {
   "cell_type": "code",
   "execution_count": 196,
   "id": "09146ef7",
   "metadata": {},
   "outputs": [],
   "source": [
    "def classify_tweets(tweet, model_path=\"./models/binary_model\"):\n",
    "    tokenizer = BertTokenizer.from_pretrained(model_path)\n",
    "    model = BertForSequenceClassification.from_pretrained(model_path)\n",
    "    device = torch.device(\"mps\" if torch.backends.mps.is_available() else \"cuda\" if torch.cuda.is_available() else \"cpu\")\n",
    "    model.to(device)\n",
    "    model.eval()\n",
    "\n",
    "    #tokenize input\n",
    "    inputs = tokenizer(tweet, return_tensors=\"pt\", padding=True, truncation=True, max_length=128)\n",
    "    inputs = {k: v.to(device) for k, v in inputs.items()}\n",
    "\n",
    "    with torch.no_grad():\n",
    "        outputs = model(**inputs)\n",
    "        logits = outputs.logits\n",
    "        pred = torch.argmax(logits, dim=1).item()\n",
    "\n",
    "    label_map = {1: \"non-informative\", 0: \"informative\"}\n",
    "    return label_map[pred]\n",
    "\n"
   ]
  },
  {
   "cell_type": "code",
   "execution_count": 198,
   "id": "f2ea623d",
   "metadata": {},
   "outputs": [
    {
     "name": "stdout",
     "output_type": "stream",
     "text": [
      "The tweet is classified as: non-informative\n"
     ]
    }
   ],
   "source": [
    "tweet = \"Film is not doing good in box office\"\n",
    "result = classify_tweets(tweet)\n",
    "print(f\"The tweet is classified as: {result}\")\n"
   ]
  },
  {
   "cell_type": "code",
   "execution_count": null,
   "id": "80bcf907",
   "metadata": {},
   "outputs": [],
   "source": []
  }
 ],
 "metadata": {
  "kernelspec": {
   "display_name": "tf-gpu",
   "language": "python",
   "name": "python3"
  },
  "language_info": {
   "codemirror_mode": {
    "name": "ipython",
    "version": 3
   },
   "file_extension": ".py",
   "mimetype": "text/x-python",
   "name": "python",
   "nbconvert_exporter": "python",
   "pygments_lexer": "ipython3",
   "version": "3.12.9"
  }
 },
 "nbformat": 4,
 "nbformat_minor": 5
}
